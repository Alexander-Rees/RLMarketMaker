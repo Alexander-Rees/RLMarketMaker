{
  "cells": [
    {
      "cell_type": "markdown",
      "metadata": {},
      "source": [
        "\n"
      ]
    },
    {
      "cell_type": "code",
      "execution_count": null,
      "metadata": {},
      "outputs": [],
      "source": [
        "\n"
      ]
    },
    {
      "cell_type": "code",
      "execution_count": null,
      "metadata": {},
      "outputs": [],
      "source": [
        "\n"
      ]
    },
    {
      "cell_type": "code",
      "execution_count": null,
      "metadata": {},
      "outputs": [],
      "source": [
        "\n"
      ]
    },
    {
      "cell_type": "code",
      "execution_count": null,
      "metadata": {},
      "outputs": [],
      "source": [
        "\n"
      ]
    },
    {
      "cell_type": "code",
      "execution_count": null,
      "metadata": {},
      "outputs": [],
      "source": [
        "\n"
      ]
    },
    {
      "cell_type": "code",
      "execution_count": null,
      "metadata": {},
      "outputs": [],
      "source": [
        "\n"
      ]
    },
    {
      "cell_type": "code",
      "execution_count": null,
      "metadata": {},
      "outputs": [],
      "source": [
        "\n"
      ]
    },
    {
      "cell_type": "markdown",
      "metadata": {},
      "source": [
        "\n"
      ]
    },
    {
      "cell_type": "code",
      "execution_count": null,
      "metadata": {},
      "outputs": [],
      "source": [
        "\n"
      ]
    },
    {
      "cell_type": "code",
      "execution_count": null,
      "metadata": {},
      "outputs": [],
      "source": [
        "# Create detailed tick-by-tick visualization\n",
        "class DetailedAgentVisualizer:\n",
        "    \"\"\"Visualize exactly what the agent is doing at each tick.\"\"\"\n",
        "    \n",
        "    def __init__(self, config_path='configs/ppo.yaml'):\n",
        "        \"\"\"Initialize the visualizer.\"\"\"\n",
        "        self.config = load_config(config_path)\n",
        "        self.feed = SyntheticFeed(seed=42)\n",
        "        self.env = MarketMakerEnv(self.feed, self.config, seed=42)\n",
        "        \n",
        "    def visualize_agent_behavior(self, agent, num_ticks=50, agent_name=\"Agent\"):\n",
        "        \"\"\"Show detailed tick-by-tick behavior.\"\"\"\n",
        "        print(f\"🔍 Analyzing {agent_name} behavior for {num_ticks} ticks...\")\n",
        "        \n",
        "        # Reset environment\n",
        "        obs, _ = self.env.reset()\n",
        "        \n",
        "        # Data collection\n",
        "        tick_data = []\n",
        "        \n",
        "        for tick in range(num_ticks):\n",
        "            # Get current market state\n",
        "            current_tick = self.env.current_tick\n",
        "            market_state = {\n",
        "                'midprice': current_tick.midprice,\n",
        "                'spread': current_tick.spread,\n",
        "                'bid': current_tick.bid,\n",
        "                'ask': current_tick.ask\n",
        "            }\n",
        "            \n",
        "            # Get agent's action (bid/ask prices)\n",
        "            if hasattr(agent, 'predict'):\n",
        "                action, _ = agent.predict(obs, deterministic=True)\n",
        "            else:\n",
        "                action = agent.get_action(obs, market_state)\n",
        "            \n",
        "            # Take step and get results\n",
        "            obs, reward, terminated, truncated, info = self.env.step(action)\n",
        "            \n",
        "            # Record detailed data\n",
        "            tick_info = {\n",
        "                'tick': tick,\n",
        "                'market_midprice': current_tick.midprice,\n",
        "                'market_bid': current_tick.bid,\n",
        "                'market_ask': current_tick.ask,\n",
        "                'market_spread': current_tick.spread,\n",
        "                'agent_bid': action[0] if isinstance(action, (list, np.ndarray)) else action,\n",
        "                'agent_ask': action[1] if isinstance(action, (list, np.ndarray)) and len(action) > 1 else action,\n",
        "                'inventory': info.get('inventory', 0),\n",
        "                'pnl': info.get('total_pnl', 0),\n",
        "                'reward': reward,\n",
        "                'filled_bid': info.get('filled_bid', False),\n",
        "                'filled_ask': info.get('filled_ask', False),\n",
        "                'position': info.get('position', 0)\n",
        "            }\n",
        "            \n",
        "            tick_data.append(tick_info)\n",
        "            \n",
        "            if terminated or truncated:\n",
        "                break\n",
        "        \n",
        "        return tick_data\n",
        "    \n",
        "    def plot_detailed_behavior(self, tick_data, agent_name=\"Agent\"):\n",
        "        \"\"\"Create detailed plots showing agent behavior.\"\"\"\n",
        "        if not tick_data:\n",
        "            print(\"❌ No tick data to visualize\")\n",
        "            return\n",
        "        \n",
        "        # Convert to DataFrame for easier plotting\n",
        "        df = pd.DataFrame(tick_data)\n",
        "        \n",
        "        # Create comprehensive visualization\n",
        "        fig, axes = plt.subplots(3, 2, figsize=(20, 15))\n",
        "        fig.suptitle(f'{agent_name} Detailed Behavior Analysis', fontsize=16, fontweight='bold')\n",
        "        \n",
        "        # Plot 1: Price Levels Over Time\n",
        "        ax1 = axes[0, 0]\n",
        "        ax1.plot(df['tick'], df['market_midprice'], 'b-', label='Market Midprice', linewidth=2)\n",
        "        ax1.plot(df['tick'], df['market_bid'], 'g--', label='Market Bid', alpha=0.7)\n",
        "        ax1.plot(df['tick'], df['market_ask'], 'r--', label='Market Ask', alpha=0.7)\n",
        "        ax1.plot(df['tick'], df['agent_bid'], 'go', label='Agent Bid', markersize=4)\n",
        "        ax1.plot(df['tick'], df['agent_ask'], 'ro', label='Agent Ask', markersize=4)\n",
        "        ax1.set_title('Price Levels Over Time')\n",
        "        ax1.set_xlabel('Tick')\n",
        "        ax1.set_ylabel('Price')\n",
        "        ax1.legend()\n",
        "        ax1.grid(True, alpha=0.3)\n",
        "        \n",
        "        # Plot 2: Spread Analysis\n",
        "        ax2 = axes[0, 1]\n",
        "        market_spread = df['market_ask'] - df['market_bid']\n",
        "        agent_spread = df['agent_ask'] - df['agent_bid']\n",
        "        ax2.plot(df['tick'], market_spread, 'b-', label='Market Spread', linewidth=2)\n",
        "        ax2.plot(df['tick'], agent_spread, 'r-', label='Agent Spread', linewidth=2)\n",
        "        ax2.set_title('Spread Comparison')\n",
        "        ax2.set_xlabel('Tick')\n",
        "        ax2.set_ylabel('Spread')\n",
        "        ax2.legend()\n",
        "        ax2.grid(True, alpha=0.3)\n",
        "        \n",
        "        # Plot 3: Inventory and PnL\n",
        "        ax3 = axes[1, 0]\n",
        "        ax3_twin = ax3.twinx()\n",
        "        \n",
        "        # Inventory\n",
        "        ax3.plot(df['tick'], df['inventory'], 'purple', label='Inventory', linewidth=2)\n",
        "        ax3.set_ylabel('Inventory', color='purple')\n",
        "        ax3.tick_params(axis='y', labelcolor='purple')\n",
        "        \n",
        "        # PnL\n",
        "        ax3_twin.plot(df['tick'], df['pnl'], 'orange', label='PnL', linewidth=2)\n",
        "        ax3_twin.set_ylabel('PnL', color='orange')\n",
        "        ax3_twin.tick_params(axis='y', labelcolor='orange')\n",
        "        \n",
        "        ax3.set_title('Inventory and PnL Over Time')\n",
        "        ax3.set_xlabel('Tick')\n",
        "        ax3.grid(True, alpha=0.3)\n",
        "        \n",
        "        # Plot 4: Reward and Fills\n",
        "        ax4 = axes[1, 1]\n",
        "        ax4.plot(df['tick'], df['reward'], 'green', label='Reward', linewidth=2)\n",
        "        \n",
        "        # Mark filled orders\n",
        "        filled_bid_ticks = df[df['filled_bid'] == True]['tick']\n",
        "        filled_ask_ticks = df[df['filled_ask'] == True]['tick']\n",
        "        \n",
        "        if len(filled_bid_ticks) > 0:\n",
        "            ax4.scatter(filled_bid_ticks, df.loc[filled_bid_ticks, 'reward'], \n",
        "                       color='blue', s=50, label='Bid Filled', marker='^')\n",
        "        if len(filled_ask_ticks) > 0:\n",
        "            ax4.scatter(filled_ask_ticks, df.loc[filled_ask_ticks, 'reward'], \n",
        "                       color='red', s=50, label='Ask Filled', marker='v')\n",
        "        \n",
        "        ax4.set_title('Reward and Order Fills')\n",
        "        ax4.set_xlabel('Tick')\n",
        "        ax4.set_ylabel('Reward')\n",
        "        ax4.legend()\n",
        "        ax4.grid(True, alpha=0.3)\n",
        "        \n",
        "        # Plot 5: Agent vs Market Prices (Scatter)\n",
        "        ax5 = axes[2, 0]\n",
        "        ax5.scatter(df['market_bid'], df['agent_bid'], alpha=0.6, label='Bid Prices', s=30)\n",
        "        ax5.scatter(df['market_ask'], df['agent_ask'], alpha=0.6, label='Ask Prices', s=30)\n",
        "        \n",
        "        # Add diagonal line for reference\n",
        "        min_price = min(df['market_bid'].min(), df['agent_bid'].min())\n",
        "        max_price = max(df['market_ask'].max(), df['agent_ask'].max())\n",
        "        ax5.plot([min_price, max_price], [min_price, max_price], 'k--', alpha=0.5, label='Market = Agent')\n",
        "        \n",
        "        ax5.set_title('Agent Prices vs Market Prices')\n",
        "        ax5.set_xlabel('Market Price')\n",
        "        ax5.set_ylabel('Agent Price')\n",
        "        ax5.legend()\n",
        "        ax5.grid(True, alpha=0.3)\n",
        "        \n",
        "        # Plot 6: Price Difference Analysis\n",
        "        ax6 = axes[2, 1]\n",
        "        bid_diff = df['agent_bid'] - df['market_bid']\n",
        "        ask_diff = df['agent_ask'] - df['market_ask']\n",
        "        \n",
        "        ax6.plot(df['tick'], bid_diff, 'g-', label='Bid Difference (Agent - Market)', linewidth=2)\n",
        "        ax6.plot(df['tick'], ask_diff, 'r-', label='Ask Difference (Agent - Market)', linewidth=2)\n",
        "        ax6.axhline(y=0, color='black', linestyle='-', alpha=0.3)\n",
        "        \n",
        "        ax6.set_title('Price Differences (Agent - Market)')\n",
        "        ax6.set_xlabel('Tick')\n",
        "        ax6.set_ylabel('Price Difference')\n",
        "        ax6.legend()\n",
        "        ax6.grid(True, alpha=0.3)\n",
        "        \n",
        "        plt.tight_layout()\n",
        "        plt.show()\n",
        "        \n",
        "        # Print detailed summary\n",
        "        print(f\"\\n📊 {agent_name} Behavior Summary:\")\n",
        "        print(f\"   📈 Market Midprice Range: {df['market_midprice'].min():.2f} - {df['market_midprice'].max():.2f}\")\n",
        "        print(f\"   💰 Agent Bid Range: {df['agent_bid'].min():.2f} - {df['agent_bid'].max():.2f}\")\n",
        "        print(f\"   💰 Agent Ask Range: {df['agent_ask'].min():.2f} - {df['agent_ask'].max():.2f}\")\n",
        "        print(f\"   📦 Final Inventory: {df['inventory'].iloc[-1]:.2f}\")\n",
        "        print(f\"   💵 Final PnL: {df['pnl'].iloc[-1]:.2f}\")\n",
        "        print(f\"   🎯 Total Fills: {df['filled_bid'].sum()} bids, {df['filled_ask'].sum()} asks\")\n",
        "        print(f\"   📊 Avg Spread: Market={market_spread.mean():.3f}, Agent={agent_spread.mean():.3f}\")\n",
        "        \n",
        "        return df\n",
        "\n",
        "# Initialize detailed visualizer\n",
        "detailed_viz = DetailedAgentVisualizer()\n",
        "print(\"✅ Detailed agent visualizer initialized!\")\n"
      ]
    },
    {
      "cell_type": "code",
      "execution_count": null,
      "metadata": {},
      "outputs": [],
      "source": [
        "# Let's see what the FixedSpread agent is actually doing!\n",
        "print(\"🔍 ANALYZING FIXED SPREAD AGENT BEHAVIOR\")\n",
        "print(\"=\" * 50)\n",
        "\n",
        "# Create a FixedSpread agent\n",
        "fixed_spread_agent = FixedSpreadStrategy(spread_ticks=2, max_inventory=100.0)\n",
        "\n",
        "# Analyze its behavior\n",
        "tick_data = detailed_viz.visualize_agent_behavior(fixed_spread_agent, num_ticks=30, agent_name=\"FixedSpread\")\n",
        "\n",
        "# Create the detailed visualization\n",
        "df = detailed_viz.plot_detailed_behavior(tick_data, \"FixedSpread\")\n",
        "\n",
        "print(\"\\n🎯 What the FixedSpread agent is doing:\")\n",
        "print(\"   - It sets a fixed spread around the market midprice\")\n",
        "print(\"   - Bid = Midprice - spread_ticks/2\")\n",
        "print(\"   - Ask = Midprice + spread_ticks/2\")\n",
        "print(\"   - It doesn't adapt to market conditions\")\n",
        "print(\"   - It just maintains a constant spread\")\n"
      ]
    },
    {
      "cell_type": "code",
      "execution_count": null,
      "metadata": {},
      "outputs": [],
      "source": [
        "# Now let's see what the Random agent is doing!\n",
        "print(\"\\n🔍 ANALYZING RANDOM AGENT BEHAVIOR\")\n",
        "print(\"=\" * 50)\n",
        "\n",
        "# Create a Random agent\n",
        "random_agent = RandomStrategy(seed=42)\n",
        "\n",
        "# Analyze its behavior\n",
        "tick_data_random = detailed_viz.visualize_agent_behavior(random_agent, num_ticks=30, agent_name=\"Random\")\n",
        "\n",
        "# Create the detailed visualization\n",
        "df_random = detailed_viz.plot_detailed_behavior(tick_data_random, \"Random\")\n",
        "\n",
        "print(\"\\n🎯 What the Random agent is doing:\")\n",
        "print(\"   - It randomly sets bid and ask prices\")\n",
        "print(\"   - No strategy, just random decisions\")\n",
        "print(\"   - Sometimes sets prices above/below market\")\n",
        "print(\"   - Very unpredictable behavior\")\n"
      ]
    },
    {
      "cell_type": "code",
      "execution_count": null,
      "metadata": {},
      "outputs": [],
      "source": [
        "# Let's see the InventoryMeanReversion agent!\n",
        "print(\"\\n🔍 ANALYZING INVENTORY MEAN REVERSION AGENT BEHAVIOR\")\n",
        "print(\"=\" * 50)\n",
        "\n",
        "# Create an InventoryMeanReversion agent\n",
        "inventory_agent = InventoryMeanReversionStrategy(base_spread=2, max_inventory=100.0)\n",
        "\n",
        "# Analyze its behavior\n",
        "tick_data_inventory = detailed_viz.visualize_agent_behavior(inventory_agent, num_ticks=30, agent_name=\"InventoryMeanReversion\")\n",
        "\n",
        "# Create the detailed visualization\n",
        "df_inventory = detailed_viz.plot_detailed_behavior(tick_data_inventory, \"InventoryMeanReversion\")\n",
        "\n",
        "print(\"\\n🎯 What the InventoryMeanReversion agent is doing:\")\n",
        "print(\"   - It adjusts prices based on inventory level\")\n",
        "print(\"   - When inventory is high (long position), it lowers ask prices to sell\")\n",
        "print(\"   - When inventory is low (short position), it raises bid prices to buy\")\n",
        "print(\"   - It tries to keep inventory close to zero\")\n",
        "print(\"   - This is a smart strategy for market making!\")\n"
      ]
    },
    {
      "cell_type": "code",
      "execution_count": null,
      "metadata": {},
      "outputs": [],
      "source": [
        "# Create a side-by-side comparison of all agents\n",
        "def compare_agent_behaviors():\n",
        "    \"\"\"Compare all agents side by side.\"\"\"\n",
        "    print(\"🔄 COMPARING ALL AGENT BEHAVIORS SIDE BY SIDE\")\n",
        "    print(\"=\" * 60)\n",
        "    \n",
        "    # Create all agents\n",
        "    agents = {\n",
        "        'FixedSpread': FixedSpreadStrategy(spread_ticks=2, max_inventory=100.0),\n",
        "        'Random': RandomStrategy(seed=42),\n",
        "        'InventoryMeanReversion': InventoryMeanReversionStrategy(base_spread=2, max_inventory=100.0)\n",
        "    }\n",
        "    \n",
        "    # Collect data from all agents\n",
        "    all_data = {}\n",
        "    \n",
        "    for agent_name, agent in agents.items():\n",
        "        print(f\"\\n📊 Analyzing {agent_name}...\")\n",
        "        tick_data = detailed_viz.visualize_agent_behavior(agent, num_ticks=20, agent_name=agent_name)\n",
        "        all_data[agent_name] = pd.DataFrame(tick_data)\n",
        "    \n",
        "    # Create comparison plots\n",
        "    fig, axes = plt.subplots(2, 3, figsize=(24, 12))\n",
        "    fig.suptitle('Agent Behavior Comparison - Side by Side', fontsize=16, fontweight='bold')\n",
        "    \n",
        "    colors = {'FixedSpread': 'blue', 'Random': 'red', 'InventoryMeanReversion': 'green'}\n",
        "    \n",
        "    # Plot 1: Price Levels Comparison\n",
        "    ax1 = axes[0, 0]\n",
        "    for agent_name, df in all_data.items():\n",
        "        ax1.plot(df['tick'], df['market_midprice'], 'k-', alpha=0.5, linewidth=1)\n",
        "        ax1.plot(df['tick'], df['agent_bid'], 'o-', color=colors[agent_name], \n",
        "                label=f'{agent_name} Bid', markersize=3, alpha=0.7)\n",
        "        ax1.plot(df['tick'], df['agent_ask'], 's-', color=colors[agent_name], \n",
        "                label=f'{agent_name} Ask', markersize=3, alpha=0.7)\n",
        "    ax1.set_title('Price Levels Comparison')\n",
        "    ax1.set_xlabel('Tick')\n",
        "    ax1.set_ylabel('Price')\n",
        "    ax1.legend(bbox_to_anchor=(1.05, 1), loc='upper left')\n",
        "    ax1.grid(True, alpha=0.3)\n",
        "    \n",
        "    # Plot 2: Spread Comparison\n",
        "    ax2 = axes[0, 1]\n",
        "    for agent_name, df in all_data.items():\n",
        "        agent_spread = df['agent_ask'] - df['agent_bid']\n",
        "        ax2.plot(df['tick'], agent_spread, 'o-', color=colors[agent_name], \n",
        "                label=f'{agent_name} Spread', linewidth=2)\n",
        "    ax2.set_title('Spread Comparison')\n",
        "    ax2.set_xlabel('Tick')\n",
        "    ax2.set_ylabel('Spread')\n",
        "    ax2.legend()\n",
        "    ax2.grid(True, alpha=0.3)\n",
        "    \n",
        "    # Plot 3: Inventory Comparison\n",
        "    ax3 = axes[0, 2]\n",
        "    for agent_name, df in all_data.items():\n",
        "        ax3.plot(df['tick'], df['inventory'], 'o-', color=colors[agent_name], \n",
        "                label=f'{agent_name} Inventory', linewidth=2)\n",
        "    ax3.set_title('Inventory Comparison')\n",
        "    ax3.set_xlabel('Tick')\n",
        "    ax3.set_ylabel('Inventory')\n",
        "    ax3.legend()\n",
        "    ax3.grid(True, alpha=0.3)\n",
        "    \n",
        "    # Plot 4: PnL Comparison\n",
        "    ax4 = axes[1, 0]\n",
        "    for agent_name, df in all_data.items():\n",
        "        ax4.plot(df['tick'], df['pnl'], 'o-', color=colors[agent_name], \n",
        "                label=f'{agent_name} PnL', linewidth=2)\n",
        "    ax4.set_title('PnL Comparison')\n",
        "    ax4.set_xlabel('Tick')\n",
        "    ax4.set_ylabel('PnL')\n",
        "    ax4.legend()\n",
        "    ax4.grid(True, alpha=0.3)\n",
        "    \n",
        "    # Plot 5: Reward Comparison\n",
        "    ax5 = axes[1, 1]\n",
        "    for agent_name, df in all_data.items():\n",
        "        ax5.plot(df['tick'], df['reward'], 'o-', color=colors[agent_name], \n",
        "                label=f'{agent_name} Reward', linewidth=2)\n",
        "    ax5.set_title('Reward Comparison')\n",
        "    ax5.set_xlabel('Tick')\n",
        "    ax5.set_ylabel('Reward')\n",
        "    ax5.legend()\n",
        "    ax5.grid(True, alpha=0.3)\n",
        "    \n",
        "    # Plot 6: Summary Statistics\n",
        "    ax6 = axes[1, 2]\n",
        "    ax6.axis('off')\n",
        "    \n",
        "    # Create summary table\n",
        "    summary_data = []\n",
        "    for agent_name, df in all_data.items():\n",
        "        summary_data.append([\n",
        "            agent_name,\n",
        "            f\"{df['agent_bid'].mean():.2f}\",\n",
        "            f\"{df['agent_ask'].mean():.2f}\",\n",
        "            f\"{(df['agent_ask'] - df['agent_bid']).mean():.2f}\",\n",
        "            f\"{df['inventory'].iloc[-1]:.1f}\",\n",
        "            f\"{df['pnl'].iloc[-1]:.1f}\"\n",
        "        ])\n",
        "    \n",
        "    table = ax6.table(cellText=summary_data,\n",
        "                     colLabels=['Agent', 'Avg Bid', 'Avg Ask', 'Avg Spread', 'Final Inv', 'Final PnL'],\n",
        "                     cellLoc='center',\n",
        "                     loc='center',\n",
        "                     bbox=[0, 0, 1, 1])\n",
        "    table.auto_set_font_size(False)\n",
        "    table.set_fontsize(10)\n",
        "    table.scale(1, 2)\n",
        "    ax6.set_title('Summary Statistics', fontweight='bold', pad=20)\n",
        "    \n",
        "    plt.tight_layout()\n",
        "    plt.show()\n",
        "    \n",
        "    return all_data\n",
        "\n",
        "# Run the comparison\n",
        "comparison_data = compare_agent_behaviors()\n",
        "print(\"\\n✅ Agent behavior comparison complete!\")\n"
      ]
    },
    {
      "cell_type": "markdown",
      "metadata": {},
      "source": [
        "\n"
      ]
    },
    {
      "cell_type": "code",
      "execution_count": null,
      "metadata": {},
      "outputs": [],
      "source": [
        "\n"
      ]
    },
    {
      "cell_type": "markdown",
      "metadata": {},
      "source": [
        "\n"
      ]
    },
    {
      "cell_type": "code",
      "execution_count": null,
      "metadata": {},
      "outputs": [],
      "source": [
        "\n"
      ]
    },
    {
      "cell_type": "markdown",
      "metadata": {},
      "source": [
        "\n"
      ]
    },
    {
      "cell_type": "code",
      "execution_count": null,
      "metadata": {},
      "outputs": [],
      "source": [
        "\n"
      ]
    },
    {
      "cell_type": "markdown",
      "metadata": {},
      "source": [
        "\n"
      ]
    },
    {
      "cell_type": "code",
      "execution_count": null,
      "metadata": {},
      "outputs": [],
      "source": [
        "\n"
      ]
    },
    {
      "cell_type": "markdown",
      "metadata": {},
      "source": [
        "\n"
      ]
    },
    {
      "cell_type": "code",
      "execution_count": null,
      "metadata": {},
      "outputs": [],
      "source": [
        "\n"
      ]
    },
    {
      "cell_type": "markdown",
      "metadata": {},
      "source": [
        "\n"
      ]
    },
    {
      "cell_type": "code",
      "execution_count": null,
      "metadata": {},
      "outputs": [],
      "source": [
        "\n"
      ]
    },
    {
      "cell_type": "code",
      "execution_count": null,
      "metadata": {},
      "outputs": [],
      "source": [
        "\n"
      ]
    },
    {
      "cell_type": "markdown",
      "metadata": {},
      "source": [
        "\n"
      ]
    },
    {
      "cell_type": "markdown",
      "metadata": {},
      "source": []
    },
    {
      "cell_type": "code",
      "execution_count": null,
      "metadata": {},
      "outputs": [],
      "source": [
        "\n"
      ]
    },
    {
      "cell_type": "code",
      "execution_count": null,
      "metadata": {},
      "outputs": [],
      "source": [
        "\n"
      ]
    }
  ],
  "metadata": {
    "language_info": {
      "name": "python"
    }
  },
  "nbformat": 4,
  "nbformat_minor": 2
}
